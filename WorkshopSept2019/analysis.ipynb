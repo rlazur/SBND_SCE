{
 "cells": [
  {
   "cell_type": "code",
   "execution_count": 2,
   "metadata": {},
   "outputs": [],
   "source": [
    "#import packages\n",
    "import pandas as pd\n",
    "import numpy as np\n",
    "import matplotlib.pyplot as plt\n",
    "import uproot as ur"
   ]
  },
  {
   "cell_type": "code",
   "execution_count": 3,
   "metadata": {},
   "outputs": [],
   "source": [
    "#load files\n",
    "file = ur.open(\"cosmics_nosce_ana_full.root\")\n",
    "anatree = file[\"analysistree\"][\"anatree\"]"
   ]
  },
  {
   "cell_type": "code",
   "execution_count": 12,
   "metadata": {},
   "outputs": [
    {
     "name": "stdout",
     "output_type": "stream",
     "text": [
      "[b'trkncosmictags_tagger_pmalgtrackmaker', b'trkcosmicscore_tagger_pmalgtrackmaker', b'trkcosmictype_tagger_pmalgtrackmaker', b'trkncosmictags_flashmatch_pmalgtrackmaker', b'trkcosmicscore_flashmatch_pmalgtrackmaker', b'trkcosmictype_flashmatch_pmalgtrackmaker', b'trkncosmictags_tagger_pandoraTrack', b'trkcosmicscore_tagger_pandoraTrack', b'trkcosmictype_tagger_pandoraTrack', b'trkncosmictags_flashmatch_pandoraTrack', b'trkcosmicscore_flashmatch_pandoraTrack', b'trkcosmictype_flashmatch_pandoraTrack']\n"
     ]
    }
   ],
   "source": [
    "keys = anatree.keys()\n",
    "search_params = [\"\",\"cosmic\"]\n",
    "print([key for key in keys if ((search_params[0] in str(key)) and (search_params[1] in str(key)))])"
   ]
  },
  {
   "cell_type": "code",
   "execution_count": 4,
   "metadata": {},
   "outputs": [
    {
     "name": "stdout",
     "output_type": "stream",
     "text": [
      "3700\n"
     ]
    }
   ],
   "source": [
    "branches = ['cry_primaries_pdg']\n",
    "count = 0\n",
    "for i,data in enumerate(anatree.iterate(branches)):\n",
    "    for ii,cry in enumerate(data[b'cry_primaries_pdg']):\n",
    "        count += 1\n",
    "        \n",
    "print(count)        "
   ]
  }
 ],
 "metadata": {
  "kernelspec": {
   "display_name": "Python 3",
   "language": "python",
   "name": "python3"
  },
  "language_info": {
   "codemirror_mode": {
    "name": "ipython",
    "version": 3
   },
   "file_extension": ".py",
   "mimetype": "text/x-python",
   "name": "python",
   "nbconvert_exporter": "python",
   "pygments_lexer": "ipython3",
   "version": "3.6.8"
  }
 },
 "nbformat": 4,
 "nbformat_minor": 2
}
